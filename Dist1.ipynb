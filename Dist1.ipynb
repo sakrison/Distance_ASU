{
 "metadata": {
  "name": "",
  "signature": "sha256:1e9591f3962972b0a70391a3a7cd573ec29209a07df0cba06ab35f39e466bf56"
 },
 "nbformat": 3,
 "nbformat_minor": 0,
 "worksheets": [
  {
   "cells": [
    {
     "cell_type": "code",
     "collapsed": false,
     "input": [
      "# user will provide lists of x and y coordinates\n",
      "x = [1,1.2,1.3,8,9,10,11,12]\n",
      "y =[4.1,4.2,4.3,1,8,10,11,12]\n",
      "\n",
      "# pretend like you don't know n and use the len(x) function to find the dimensions of our array\n",
      "n = len(x)\n",
      "print n"
     ],
     "language": "python",
     "metadata": {},
     "outputs": [
      {
       "output_type": "stream",
       "stream": "stdout",
       "text": [
        "8\n"
       ]
      }
     ],
     "prompt_number": 99
    },
    {
     "cell_type": "code",
     "collapsed": false,
     "input": [
      "d = np.zeros((n,n))"
     ],
     "language": "python",
     "metadata": {},
     "outputs": [],
     "prompt_number": 100
    },
    {
     "cell_type": "code",
     "collapsed": false,
     "input": [
      "for i in range(n-1):\n",
      "    for j in range(i+1, n):\n",
      "        xd = x[i]-x[j]\n",
      "        yd = y[i]-y[j]\n",
      "        d[i,j] = np.sqrt(xd*xd + yd*yd)\n",
      "        d[j,i] = d[i,j]\n",
      "\n",
      "dmax = d.max() * 1000\n",
      "d[d==0] = dmax"
     ],
     "language": "python",
     "metadata": {},
     "outputs": [],
     "prompt_number": 101
    },
    {
     "cell_type": "code",
     "collapsed": false,
     "input": [
      "xmin = min(x)\n",
      "xmax = max(x)\n",
      "ymin = min(y)\n",
      "ymax = max(y)"
     ],
     "language": "python",
     "metadata": {},
     "outputs": [],
     "prompt_number": 102
    },
    {
     "cell_type": "code",
     "collapsed": false,
     "input": [
      "#now we need to make a random, uniformly distributed distance matrix to compare our averages to.\n",
      "#in the below code, r = random\n",
      "\n",
      "xr = np.random.uniform(xmin,xmax,n)\n",
      "yr = np.random.uniform(ymin,ymax,n)\n",
      "\n",
      "dr = np.zeros((n,n))"
     ],
     "language": "python",
     "metadata": {},
     "outputs": [],
     "prompt_number": 103
    },
    {
     "cell_type": "code",
     "collapsed": false,
     "input": [
      "for i in range(n-1):\n",
      "    for j in range(i+1, n):\n",
      "        xrdr = xr[i]-xr[j]\n",
      "        yrdr = yr[i]-yr[j]\n",
      "        dr[i,j] = np.sqrt(xrdr*xrdr + yrdr*yrdr)\n",
      "        dr[j,i] = dr[i,j]\n",
      "\n",
      "dr0 = dr\n",
      "drmax = dr.max() * 1000\n",
      "dr[dr==0] = drmax"
     ],
     "language": "python",
     "metadata": {},
     "outputs": [],
     "prompt_number": 104
    },
    {
     "cell_type": "code",
     "collapsed": false,
     "input": [
      "dlow = d.min(axis = 1)"
     ],
     "language": "python",
     "metadata": {},
     "outputs": [],
     "prompt_number": 105
    },
    {
     "cell_type": "code",
     "collapsed": false,
     "input": [
      "drlow = dr.min(axis = 1)"
     ],
     "language": "python",
     "metadata": {},
     "outputs": [],
     "prompt_number": 106
    },
    {
     "cell_type": "code",
     "collapsed": false,
     "input": [
      "drlow"
     ],
     "language": "python",
     "metadata": {},
     "outputs": [
      {
       "metadata": {},
       "output_type": "pyout",
       "prompt_number": 107,
       "text": [
        "array([ 4.01859306,  3.04146519,  1.28544614,  0.60709053,  8.12000698,\n",
        "        0.60709053,  1.13543773,  1.28544614])"
       ]
      }
     ],
     "prompt_number": 107
    },
    {
     "cell_type": "code",
     "collapsed": false,
     "input": [
      "dlow"
     ],
     "language": "python",
     "metadata": {},
     "outputs": [
      {
       "metadata": {},
       "output_type": "pyout",
       "prompt_number": 108,
       "text": [
        "array([ 0.2236068 ,  0.14142136,  0.14142136,  7.07106781,  2.23606798,\n",
        "        1.41421356,  1.41421356,  1.41421356])"
       ]
      }
     ],
     "prompt_number": 108
    },
    {
     "cell_type": "code",
     "collapsed": false,
     "input": [
      "dav = dlow.mean()\n",
      "drav = drlow.mean()"
     ],
     "language": "python",
     "metadata": {},
     "outputs": [],
     "prompt_number": 109
    },
    {
     "cell_type": "code",
     "collapsed": false,
     "input": [
      "dav"
     ],
     "language": "python",
     "metadata": {},
     "outputs": [
      {
       "metadata": {},
       "output_type": "pyout",
       "prompt_number": 110,
       "text": [
        "1.7570282483386435"
       ]
      }
     ],
     "prompt_number": 110
    },
    {
     "cell_type": "code",
     "collapsed": false,
     "input": [
      "drav"
     ],
     "language": "python",
     "metadata": {},
     "outputs": [
      {
       "metadata": {},
       "output_type": "pyout",
       "prompt_number": 111,
       "text": [
        "2.5125720360040673"
       ]
      }
     ],
     "prompt_number": 111
    },
    {
     "cell_type": "code",
     "collapsed": false,
     "input": [],
     "language": "python",
     "metadata": {},
     "outputs": []
    }
   ],
   "metadata": {}
  }
 ]
}