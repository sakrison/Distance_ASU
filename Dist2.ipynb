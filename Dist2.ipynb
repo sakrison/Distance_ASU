{
 "metadata": {
  "name": "",
  "signature": "sha256:922cd0608d548d3a94689c0721a65badd81f23b28bbad168efd4e0e2de834233"
 },
 "nbformat": 3,
 "nbformat_minor": 0,
 "worksheets": [
  {
   "cells": [
    {
     "cell_type": "code",
     "collapsed": false,
     "input": [
      "import numpy as np\n",
      "import scipy\n",
      "\n",
      "# user will provide lists of x and y coordinates\n",
      "x = [1,1.2,1.3,8,9,10,11,12]\n",
      "y =[4.1,4.2,4.3,1,8,10,11,12]\n",
      "\n",
      "#lists must be converted to numpy arrays\n",
      "x = np.array(x)\n",
      "y = np.array(y)"
     ],
     "language": "python",
     "metadata": {},
     "outputs": [],
     "prompt_number": 59
    },
    {
     "cell_type": "code",
     "collapsed": false,
     "input": [
      "#simplified distance matrix from Serge\n",
      "def mean_nn(x,y):\n",
      "    n = len(x)\n",
      "    D = np.zeros((n,n))\n",
      "    for i in range(n-1):\n",
      "        for j in range(i+1, n):\n",
      "            xd = x[i]-x[j]\n",
      "            yd = y[i]-y[j]\n",
      "            D[i,j] = np.sqrt(xd*xd + yd*yd)\n",
      "            D[j,i] = D[i,j]\n",
      "    D1 = D + np.diag(np.ones(n,)* D.max())\n",
      "    nnd = D1.min(axis=1)\n",
      "    return nnd.mean()"
     ],
     "language": "python",
     "metadata": {},
     "outputs": [],
     "prompt_number": 41
    },
    {
     "cell_type": "code",
     "collapsed": false,
     "input": [
      "mean_nn(x,y)"
     ],
     "language": "python",
     "metadata": {},
     "outputs": [
      {
       "metadata": {},
       "output_type": "pyout",
       "prompt_number": 42,
       "text": [
        "1.7570282483386435"
       ]
      }
     ],
     "prompt_number": 42
    },
    {
     "cell_type": "code",
     "collapsed": false,
     "input": [
      "#comparing to a normal distribution under the null hypothesis\n",
      "def mean_nn_test(x,y, permutations=999):\n",
      "    observed = mean_nn(x,y)\n",
      "    ids = np.arange(len(x))\n",
      "    null_values = np.zeros((permutations,))\n",
      "    for i in range(permutations):\n",
      "        np.random.shuffle(ids)\n",
      "        rx = x[ids]\n",
      "        null_values[i] = mean_nn(rx,y)\n",
      "    larger = (null_values >= observed).sum()\n",
      "    if (permutations - larger) < larger:\n",
      "        larger = permutations - larger\n",
      "    pvalue = (larger + 1.) / (permutations + 1.)\n",
      "    return null_values, observed, pvalue # returns simulated statistics, observed value, pvalue"
     ],
     "language": "python",
     "metadata": {},
     "outputs": [],
     "prompt_number": 29
    },
    {
     "cell_type": "code",
     "collapsed": false,
     "input": [
      "h0 = mean_nn_test(x,y)\n",
      "h0"
     ],
     "language": "python",
     "metadata": {},
     "outputs": [
      {
       "metadata": {},
       "output_type": "pyout",
       "prompt_number": 30,
       "text": [
        "(array([ 2.24147212,  2.99415916,  2.15092262,  3.22808425,  2.27983704,\n",
        "         2.98786705,  2.85328534,  2.14326474,  2.79578419,  3.49396083,\n",
        "         2.6728116 ,  2.87112725,  3.15626455,  3.3769973 ,  2.53421296,\n",
        "         2.31200447,  2.88162599,  2.81081727,  2.59461759,  2.91688863,\n",
        "         3.10479537,  2.11190027,  2.4574374 ,  2.44841519,  2.37118767,\n",
        "         3.21618467,  2.71494278,  3.46989718,  2.72315546,  2.88099908,\n",
        "         3.08402295,  2.8935461 ,  2.94718759,  2.51252375,  2.93762643,\n",
        "         1.98741468,  2.74707631,  2.95723002,  2.34071548,  2.14195123,\n",
        "         2.02028601,  2.96574377,  2.28496263,  2.61219885,  1.86197486,\n",
        "         2.60839142,  2.83304368,  2.67737051,  2.62688101,  2.79619395,\n",
        "         3.16976145,  2.80732717,  2.43148084,  2.53713792,  2.8289368 ,\n",
        "         2.56471728,  2.99687738,  2.8680473 ,  3.06893967,  2.68138755,\n",
        "         2.52514744,  2.48528301,  2.28586236,  2.03834995,  2.99561068,\n",
        "         3.17150222,  3.33587275,  2.44377458,  2.83843214,  2.25934935,\n",
        "         2.90014534,  2.64759915,  2.49161137,  2.82685612,  2.79498584,\n",
        "         3.25708832,  2.69952734,  2.43994581,  3.0616455 ,  3.27706001,\n",
        "         2.94262661,  2.74163839,  2.16510647,  2.83912416,  1.93380494,\n",
        "         2.82549922,  2.1048888 ,  2.1397985 ,  1.80565684,  2.11190027,\n",
        "         2.94944844,  2.89130508,  3.41912259,  2.49712787,  1.72031588,\n",
        "         2.67190971,  2.52284811,  3.06169379,  2.51514899,  2.40839435,\n",
        "         3.25058259,  3.16846711,  2.98773868,  2.99593471,  1.86376342,\n",
        "         2.26362871,  2.87358947,  2.90922982,  2.95121695,  1.88638079,\n",
        "         1.77327064,  2.26362871,  2.02002769,  2.67380997,  2.66904488,\n",
        "         2.90384709,  3.27629212,  3.46410745,  2.50724968,  2.51973515,\n",
        "         2.49135239,  3.12252999,  2.79649827,  2.49826293,  2.62039024,\n",
        "         2.80404485,  2.15645719,  3.31389431,  2.930098  ,  2.71547146,\n",
        "         2.10985883,  2.8300924 ,  2.51320032,  2.63383405,  2.01834265,\n",
        "         3.21552677,  2.91298349,  2.3452621 ,  2.41957436,  2.56393958,\n",
        "         2.26244925,  2.48902487,  2.69759654,  3.2976271 ,  2.28073831,\n",
        "         2.58211445,  2.38909276,  1.96730624,  1.93107719,  2.976025  ,\n",
        "         3.41983489,  2.81593035,  2.8523431 ,  3.03962942,  2.63891572,\n",
        "         3.13775656,  2.32216428,  2.74163839,  2.54772205,  2.71592877,\n",
        "         2.86483519,  2.72428451,  2.2805145 ,  2.28397839,  2.33389524,\n",
        "         3.49651416,  2.24147212,  2.44128441,  2.39249371,  2.7824515 ,\n",
        "         2.9187555 ,  2.93964788,  2.65902707,  3.16873272,  2.59381135,\n",
        "         2.19604102,  2.16539881,  2.44574981,  2.68148519,  3.53080328,\n",
        "         2.43152149,  3.49594495,  2.7446938 ,  2.86076506,  2.30919793,\n",
        "         3.41870638,  2.9424459 ,  2.59822291,  2.74088615,  3.32623869,\n",
        "         2.1684319 ,  2.62790901,  2.50856047,  1.90775539,  3.0423724 ,\n",
        "         3.27340114,  2.75462528,  2.46924734,  2.72293471,  2.66292814,\n",
        "         2.97901419,  3.11696283,  2.67190971,  3.16325138,  3.18785175,\n",
        "         2.90922982,  3.17913625,  2.67145363,  2.71727513,  2.11322655,\n",
        "         2.13629196,  2.84900908,  2.75286402,  2.67380997,  3.02896224,\n",
        "         2.81285039,  3.05963701,  2.67845518,  2.69193266,  2.38827223,\n",
        "         3.41398043,  2.95822559,  2.43575757,  2.82141609,  3.25349312,\n",
        "         2.73564009,  2.83814368,  2.6469357 ,  2.44219377,  2.26650831,\n",
        "         2.99593803,  3.10356771,  2.86573467,  2.67500344,  1.78164442,\n",
        "         3.07362651,  2.60932819,  2.44257726,  3.17641452,  2.26435645,\n",
        "         2.8532135 ,  2.4391767 ,  3.42597688,  3.21501663,  2.21061024,\n",
        "         2.78407455,  2.81322472,  2.94262661,  3.21814252,  3.24590955,\n",
        "         2.24326044,  2.31903792,  3.32294433,  3.07053124,  3.10376272,\n",
        "         3.46977985,  2.14858024,  2.85853053,  3.38825412,  2.81356432,\n",
        "         2.56520739,  2.85182084,  2.72849034,  2.60469006,  2.68370744,\n",
        "         2.97520064,  2.63289021,  3.15225691,  2.93164074,  2.96949474,\n",
        "         2.29776299,  3.0633647 ,  1.94675988,  3.3224851 ,  1.93266128,\n",
        "         2.84508699,  1.94709145,  2.0889895 ,  3.03973484,  2.95690583,\n",
        "         2.51053298,  3.10555485,  2.94373132,  1.96296829,  3.04672998,\n",
        "         2.82753511,  2.84154196,  2.24396776,  2.77657629,  2.60012365,\n",
        "         2.56331322,  2.60134163,  2.47122557,  2.4420495 ,  2.91817206,\n",
        "         2.17370526,  2.51448027,  3.14851785,  2.70376622,  3.44509124,\n",
        "         2.35743595,  3.40501375,  2.87884766,  2.96949474,  3.39884541,\n",
        "         2.66077468,  1.88158279,  3.46613463,  3.03291357,  2.9898702 ,\n",
        "         2.92390588,  1.98911259,  1.90351205,  2.11960465,  2.66079951,\n",
        "         2.95722294,  3.18778297,  2.52140055,  2.94705238,  3.05743838,\n",
        "         2.40347306,  3.25410212,  2.44927319,  2.30882379,  2.87831788,\n",
        "         2.93015483,  3.243949  ,  2.49126103,  2.52804968,  2.90852443,\n",
        "         2.39267128,  2.26115526,  2.87812469,  2.07825005,  2.98864807,\n",
        "         2.44125918,  3.01349484,  2.84826224,  3.01171817,  2.82958268,\n",
        "         2.5320788 ,  1.93425689,  2.72849034,  2.94881861,  2.72321448,\n",
        "         2.99795953,  2.45941331,  2.92277082,  3.22560214,  3.16046676,\n",
        "         3.04164208,  2.40383436,  2.67231924,  2.90274881,  2.2178112 ,\n",
        "         2.28337118,  2.91194907,  3.1725011 ,  2.71349477,  2.88391878,\n",
        "         3.09363886,  2.70426596,  2.6775383 ,  2.52066973,  2.58501971,\n",
        "         2.93849456,  2.46963684,  2.8217135 ,  2.15243187,  3.32294433,\n",
        "         2.95066322,  2.18887261,  2.53801443,  2.42907514,  2.60794529,\n",
        "         3.19475064,  2.40044768,  2.97718761,  3.10291208,  2.70440999,\n",
        "         3.1926588 ,  2.97764148,  2.30550899,  2.46707503,  2.5334201 ,\n",
        "         2.36741367,  3.61191863,  2.16726803,  2.60609325,  2.95747973,\n",
        "         2.93128018,  3.21652705,  2.84893423,  2.67294855,  2.86616449,\n",
        "         2.71632176,  2.66949101,  3.08969143,  2.80914024,  3.2761815 ,\n",
        "         2.67737051,  3.23178796,  3.11604152,  3.55409399,  2.48391904,\n",
        "         2.4666203 ,  3.31023747,  3.22560214,  2.39267128,  3.01143508,\n",
        "         2.25934935,  2.13264709,  2.81607385,  2.62039024,  3.29123969,\n",
        "         3.25426095,  3.00184633,  2.72479065,  2.4740122 ,  1.77757461,\n",
        "         2.60914236,  2.62953052,  2.91035908,  1.96972326,  2.66465397,\n",
        "         2.81610595,  2.11118846,  2.66079951,  2.82977198,  3.16397856,\n",
        "         2.02458899,  2.57509577,  2.63731289,  2.78783111,  2.88460059,\n",
        "         2.90384709,  3.083319  ,  2.50908636,  2.77559569,  2.12189786,\n",
        "         2.26362871,  2.55592398,  2.97669339,  3.00984563,  2.82706903,\n",
        "         3.09854505,  3.44509124,  2.52140055,  2.68329631,  3.56503694,\n",
        "         2.35599024,  2.94395068,  2.76298236,  3.0254631 ,  3.5742126 ,\n",
        "         2.34471692,  2.83019094,  2.74163839,  2.44279536,  2.86822925,\n",
        "         2.13468323,  2.53014878,  2.93762643,  2.46789741,  2.0470301 ,\n",
        "         2.74656031,  2.94136201,  2.67687261,  2.86742277,  2.97959809,\n",
        "         2.63822293,  3.33389276,  2.95036907,  3.09351555,  1.71247237,\n",
        "         2.85338727,  2.16668524,  2.8091917 ,  2.40251721,  2.35743595,\n",
        "         3.53160545,  2.70404188,  2.56950059,  3.20523465,  3.12824503,\n",
        "         2.26442829,  3.0694625 ,  3.38426562,  2.74181442,  2.76016697,\n",
        "         2.52741108,  2.6787464 ,  2.67732821,  2.93624571,  2.8702489 ,\n",
        "         2.56978036,  3.34060554,  2.54948627,  3.18544246,  2.48905087,\n",
        "         3.03800465,  2.70318944,  2.72177509,  2.98725544,  3.04515323,\n",
        "         2.40440764,  3.13052573,  3.16562211,  2.94039593,  2.88358742,\n",
        "         2.92467563,  2.96914395,  2.11190027,  2.75748079,  3.30428623,\n",
        "         3.1547662 ,  2.26437596,  3.22214335,  3.15996169,  1.91092146,\n",
        "         2.74655699,  2.61969165,  2.45253682,  2.81124578,  3.00343535,\n",
        "         3.19219403,  2.65316736,  2.4379251 ,  3.54741904,  3.43085543,\n",
        "         2.63393467,  2.32818199,  2.40928246,  2.8515372 ,  2.96180288,\n",
        "         2.10606771,  2.10985883,  2.33835045,  2.96138206,  2.86785108,\n",
        "         3.38120117,  2.96771108,  1.98911259,  2.2671571 ,  2.27457783,\n",
        "         2.76482376,  2.26201958,  3.12975983,  3.10236963,  3.40501375,\n",
        "         2.88022215,  2.00806198,  2.80253523,  2.4401545 ,  2.64031445,\n",
        "         2.92277082,  2.13849165,  2.98515107,  2.74809768,  2.94542577,\n",
        "         3.01766741,  3.41637402,  3.06044553,  2.8976458 ,  2.86005114,\n",
        "         2.95211572,  2.66626233,  2.96327726,  2.4936318 ,  3.20172069,\n",
        "         1.81532554,  2.58972181,  2.52640726,  3.24315252,  3.34689373,\n",
        "         3.10556952,  3.12624329,  2.85338727,  3.40501375,  3.02770704,\n",
        "         3.14630567,  2.7652037 ,  2.66034027,  2.81285039,  2.82959176,\n",
        "         2.7384429 ,  2.53214015,  3.16342202,  2.696816  ,  2.18280863,\n",
        "         3.17087809,  2.53801443,  1.77938672,  2.50535653,  2.36322458,\n",
        "         2.82821571,  3.11465804,  3.48260762,  2.04643341,  2.82818332,\n",
        "         3.2623473 ,  2.24326044,  2.82946398,  2.66528501,  2.70401377,\n",
        "         2.84765094,  3.17249345,  3.1845897 ,  3.10291208,  2.97695959,\n",
        "         3.16096405,  3.09552167,  2.7206126 ,  2.86499373,  3.44731357,\n",
        "         2.31903792,  2.20417551,  2.46789741,  1.98911259,  2.94210164,\n",
        "         3.10555485,  2.14865208,  2.0494031 ,  2.46963684,  2.37628332,\n",
        "         2.91764869,  2.12271838,  1.92821366,  2.12626547,  3.33945286,\n",
        "         2.36741367,  3.08932822,  2.21453461,  2.86527712,  2.95441985,\n",
        "         1.72674236,  2.44219377,  2.34114479,  2.81750978,  2.81917424,\n",
        "         3.50949098,  2.05472834,  2.825976  ,  2.38934806,  2.8113477 ,\n",
        "         2.15466522,  2.03494883,  2.36384871,  2.74908838,  2.94901405,\n",
        "         2.69698314,  2.85687254,  3.18877536,  3.07947012,  2.82789215,\n",
        "         2.67287492,  3.04620679,  2.13245109,  2.53123116,  2.71166038,\n",
        "         2.09637948,  3.07442254,  3.18699513,  2.83402259,  2.26636579,\n",
        "         3.5645777 ,  2.74173523,  2.44795967,  3.14803089,  2.00645325,\n",
        "         2.62155178,  2.67219626,  2.54616705,  3.34589055,  2.91996951,\n",
        "         3.09720443,  3.12790355,  2.7499791 ,  3.57449237,  2.99266909,\n",
        "         3.11292809,  2.09318007,  2.8636905 ,  2.4506187 ,  3.16824426,\n",
        "         2.02402229,  1.90338985,  3.3232782 ,  2.95332242,  2.14326474,\n",
        "         3.09552167,  2.3210456 ,  1.96595735,  2.74027435,  2.40512928,\n",
        "         3.18629241,  3.31469091,  3.50511307,  2.42082613,  3.50343657,\n",
        "         2.6615952 ,  2.81853225,  2.36916701,  2.5346503 ,  2.63444018,\n",
        "         2.42526376,  2.82585384,  2.925225  ,  1.78257901,  2.85698896,\n",
        "         2.40044768,  2.67374622,  2.60043866,  1.83526784,  3.04938187,\n",
        "         2.97543153,  2.5994789 ,  3.12251787,  2.70792533,  2.92581069,\n",
        "         2.6883907 ,  2.17537974,  3.00248294,  3.38730578,  2.84122693,\n",
        "         3.3652589 ,  2.44125918,  3.24358311,  3.05228658,  2.84283699,\n",
        "         3.09019143,  2.81908906,  2.6034934 ,  2.46924734,  2.82821571,\n",
        "         2.69027016,  2.21161492,  2.68303516,  2.62051338,  3.27464941,\n",
        "         2.39464687,  3.48260762,  2.60441028,  3.09191484,  2.83983808,\n",
        "         1.81633021,  2.64975924,  2.28245517,  3.06016618,  2.76775877,\n",
        "         3.10236963,  3.07159308,  3.00280049,  2.67853299,  2.16147691,\n",
        "         2.81827946,  2.91877436,  3.46244513,  2.81988276,  3.46346669,\n",
        "         3.34596939,  3.11165966,  2.6165374 ,  3.35537902,  2.45206843,\n",
        "         2.843779  ,  2.62039024,  3.38602472,  2.4379251 ,  2.3218845 ,\n",
        "         2.26698868,  3.5382249 ,  2.86243849,  3.4242345 ,  2.49264001,\n",
        "         2.93787443,  2.0987584 ,  2.67219626,  2.70174888,  2.67405278,\n",
        "         2.51254851,  2.12199613,  2.51860826,  3.06922066,  2.64941137,\n",
        "         3.24273689,  3.01363724,  3.25016837,  2.4472044 ,  1.71632223,\n",
        "         2.99948374,  3.17796972,  2.17812759,  2.44802492,  2.437004  ,\n",
        "         3.00016558,  2.84487183,  2.27347039,  3.12208341,  2.6745494 ,\n",
        "         2.16717824,  3.40645503,  2.3232041 ,  2.897837  ,  3.07826252,\n",
        "         3.19170167,  2.46294937,  3.17405335,  3.32532684,  3.38371366,\n",
        "         2.56395913,  3.09826774,  3.52999704,  3.42435758,  3.1920257 ,\n",
        "         2.65820941,  2.75585744,  3.20171488,  3.28322847,  2.85612421,\n",
        "         2.84549398,  3.13422981,  2.49034656,  2.54008491,  3.08673003,\n",
        "         2.66855642,  2.79988051,  3.12459587,  2.75237284,  3.17087809,\n",
        "         2.96800773,  3.01755529,  2.41056758,  3.17122882,  2.04712839,\n",
        "         2.71632176,  2.18594517,  2.47867803,  3.02558443,  2.72786257,\n",
        "         2.66855642,  2.67203232,  3.54648261,  3.16846711,  3.33622036,\n",
        "         2.6802916 ,  2.86434282,  2.77425285,  2.34467684,  2.87883933,\n",
        "         2.63731289,  2.60058973,  3.00704192,  2.70452181,  2.03494883,\n",
        "         3.33157441,  2.85155059,  2.07013086,  2.39778755,  2.51078925,\n",
        "         2.32782164,  2.19313999,  2.64354548,  2.88699859,  2.89817967,\n",
        "         2.52417802,  2.66826162,  3.03299871,  2.55759952,  2.7236903 ,\n",
        "         2.55759952,  2.87310613,  3.0646085 ,  3.16635175,  3.24077869,\n",
        "         3.29963645,  3.19442446,  2.81429079,  3.10165351,  3.31015012,\n",
        "         2.31540766,  2.5110742 ,  2.12081009,  2.34872835,  2.92649924,\n",
        "         2.26244925,  2.72292291,  2.96231665,  2.52607876,  3.03915962,\n",
        "         2.81329622,  1.90936411,  3.17096103,  2.32361187,  3.19575237,\n",
        "         3.07156212,  3.08160162,  2.22598283,  1.93055281,  2.59822291,\n",
        "         2.91391282,  3.25426095,  3.16328612,  2.60035066,  2.89679487,\n",
        "         2.44045211,  2.96298027,  2.62968164,  3.14036724,  2.26302706,\n",
        "         2.9469457 ,  3.11796729,  2.84987647,  2.03094546,  3.14478777,\n",
        "         2.6335292 ,  3.34257026,  2.54461445,  3.31389431,  2.9413327 ,\n",
        "         2.3722096 ,  3.38215011,  2.69494682,  2.86005114,  2.6906369 ,\n",
        "         2.28217321,  2.53214015,  2.93125025,  2.17863896,  2.9890173 ,\n",
        "         2.94685877,  3.28554458,  2.74029779,  3.27307758,  1.80096652,\n",
        "         3.22503458,  2.84748935,  2.87908037,  2.29019585,  2.67845518,\n",
        "         3.07623555,  2.0283962 ,  2.53324246,  2.3612957 ,  2.37658955,\n",
        "         2.04833816,  3.33162311,  1.88937043,  2.65566214,  2.90758713,\n",
        "         2.53894985,  2.21627004,  3.10122932,  2.48064411,  2.97246994,\n",
        "         2.30449557,  3.15717008,  3.21893541,  3.20653538,  2.16142566,\n",
        "         2.99197842,  2.11239485,  2.77796341,  2.60932819,  3.37220616,\n",
        "         3.15117913,  2.7974104 ,  2.92139927,  3.02485746,  2.27938942,\n",
        "         2.884346  ,  3.21675379,  3.23538354,  2.80343363,  3.46967816,\n",
        "         1.97847428,  3.19170167,  2.21291715,  3.08191209,  2.67233307,\n",
        "         2.67226051,  2.38298166,  2.40814396,  2.48189238,  2.56471728,\n",
        "         3.18697939,  2.93162314,  2.8344396 ,  2.75129095,  2.80036536,\n",
        "         3.1694017 ,  2.67190971,  3.0523968 ,  2.98736349,  2.50886843,\n",
        "         1.72334422,  2.67873495,  2.70183923,  3.21501663]),\n",
        " 1.7570282483386435,\n",
        " 0.0060000000000000001)"
       ]
      }
     ],
     "prompt_number": 30
    },
    {
     "cell_type": "code",
     "collapsed": false,
     "input": [
      "#distribution can be plotted for visual translation of data outputs\n",
      "from scipy.stats import  gaussian_kde\n",
      "%pylab inline\n",
      "\n",
      "sim, obs, pvalue = mean_nn_test(x,y)\n",
      "\n",
      "density = gaussian_kde(sim)\n",
      "xs = np.linspace(0.8*min(sim),max(sim)*1.2,200)\n",
      "plot(xs,density(xs))\n",
      "axvline(x=obs, color='r')\n",
      "xlabel('mean_nn')\n",
      "ylabel('f(mean_nn)')"
     ],
     "language": "python",
     "metadata": {},
     "outputs": [
      {
       "output_type": "stream",
       "stream": "stdout",
       "text": [
        "Populating the interactive namespace from numpy and matplotlib\n"
       ]
      },
      {
       "metadata": {},
       "output_type": "pyout",
       "prompt_number": 31,
       "text": [
        "<matplotlib.text.Text at 0xb077af2c>"
       ]
      },
      {
       "metadata": {},
       "output_type": "display_data",
       "png": "[encoded data removed]",
       "text": [
        "<matplotlib.figure.Figure at 0xb2363bec>"
       ]
      }
     ],
     "prompt_number": 31
    },
    {
     "cell_type": "markdown",
     "metadata": {},
     "source": [
      "###The G Function"
     ]
    },
    {
     "cell_type": "code",
     "collapsed": false,
     "input": [
      "#To run the G function we need to start with a distance matrix for our observed data.\n",
      "#We create a new function, similar to mean_nn, but this one returns the top half of the\n",
      "#distance matrix, with 0 values removed. \n",
      "\n",
      "def G_matrix(x,y):\n",
      "    n = len(x)\n",
      "    D = np.zeros((n,n))\n",
      "    for i in range(n-1):\n",
      "        for j in range(i+1, n):\n",
      "            xd = x[i]-x[j]\n",
      "            yd = y[i]-y[j]\n",
      "            D[i,j] = np.sqrt(xd*xd + yd*yd)\n",
      "            D[j,i] = D[i,j]\n",
      "    D1 = D[np.triu_indices_from(D)]\n",
      "    D1 = D1[D1>0]\n",
      "    return D1"
     ],
     "language": "python",
     "metadata": {},
     "outputs": [],
     "prompt_number": 37
    },
    {
     "cell_type": "code",
     "collapsed": false,
     "input": [
      "g0 = G_matrix(x,y)\n",
      "g0"
     ],
     "language": "python",
     "metadata": {},
     "outputs": [
      {
       "metadata": {},
       "output_type": "pyout",
       "prompt_number": 38,
       "text": [
        "array([  0.2236068 ,   0.36055513,   7.65571682,   8.9       ,\n",
        "        10.76150547,  12.14948559,  13.54289482,   0.14142136,\n",
        "         7.51531769,   8.67640479,  10.5394497 ,  11.92811804,\n",
        "        13.32216199,   7.46860094,   8.54283325,  10.40096149,\n",
        "        11.7889779 ,  13.18256424,   7.07106781,   9.21954446,\n",
        "        10.44030651,  11.70469991,   2.23606798,   3.60555128,\n",
        "         5.        ,   1.41421356,   2.82842712,   1.41421356])"
       ]
      }
     ],
     "prompt_number": 38
    },
    {
     "cell_type": "code",
     "collapsed": false,
     "input": [
      "#Make a new function that will plot the cumulative distance function, and nest the\n",
      "#G_matrix function within the new plotting function. The number of nearest neighbor pair \n",
      "#distances (y axis) lower than a certain distance (x axis) are plotted. Clustered points \n",
      "#will have a graph that rises quickly at the smaller test distances.\n",
      "%pylab inline\n",
      "def G_plot(x,y):\n",
      "    D1 = G_matrix(x,y)\n",
      "    DMAX = D1.max()\n",
      "    DMIN = D1.min()\n",
      "    n = len(x)\n",
      "    d = np.linspace(0,DMAX)\n",
      "    counts, bins = np.histogram(D1, d)\n",
      "    plot(bins[1:], counts.cumsum())\n",
      "    n = max(counts.cumsum())\n",
      "    ylim(0,n)\n",
      "    title(\"Cumulative pairwise distance function\")"
     ],
     "language": "python",
     "metadata": {},
     "outputs": [
      {
       "output_type": "stream",
       "stream": "stdout",
       "text": [
        "Populating the interactive namespace from numpy and matplotlib\n"
       ]
      }
     ],
     "prompt_number": 51
    },
    {
     "cell_type": "code",
     "collapsed": false,
     "input": [
      "g1 = G_plot(x,y)"
     ],
     "language": "python",
     "metadata": {},
     "outputs": [
      {
       "metadata": {},
       "output_type": "display_data",
       "png": "[encoded data removed]",
       "text": [
        "<matplotlib.figure.Figure at 0xb04fbb0c>"
       ]
      }
     ],
     "prompt_number": 52
    },
    {
     "cell_type": "code",
     "collapsed": false,
     "input": [
      "#Now we need to figure out if this is statistically significant or not!\n",
      "#Like with the mean_nn_test, we will need to create random point sets and run\n",
      "#multiple permutations to create a normal distribution for comparison."
     ],
     "language": "python",
     "metadata": {},
     "outputs": []
    }
   ],
   "metadata": {}
  }
 ]
}