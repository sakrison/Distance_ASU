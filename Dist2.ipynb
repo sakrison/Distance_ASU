{
 "metadata": {
  "name": "",
  "signature": "sha256:ba8dc7ac7db0d9a0dd618a107939d7c6c57ed597e108c94a31fbd6fe22f03099"
 },
 "nbformat": 3,
 "nbformat_minor": 0,
 "worksheets": [
  {
   "cells": [
    {
     "cell_type": "code",
     "collapsed": false,
     "input": [
      "import numpy as np\n",
      "import scipy\n",
      "\n",
      "# user will provide lists of x and y coordinates\n",
      "x = [1,1.2,1.3,8,9,10,11,12]\n",
      "y =[4.1,4.2,4.3,1,8,10,11,12]\n",
      "\n",
      "#lists must be converted to numpy arrays\n",
      "x = np.array(x)\n",
      "y = np.array(y)"
     ],
     "language": "python",
     "metadata": {},
     "outputs": [],
     "prompt_number": 1
    },
    {
     "cell_type": "code",
     "collapsed": false,
     "input": [
      "#simplified distance matrix from Serge\n",
      "def mean_nn(x,y):\n",
      "    n = len(x)\n",
      "    D = np.zeros((n,n))\n",
      "    for i in range(n-1):\n",
      "        for j in range(i+1, n):\n",
      "            xd = x[i]-x[j]\n",
      "            yd = y[i]-y[j]\n",
      "            D[i,j] = np.sqrt(xd*xd + yd*yd)\n",
      "            D[j,i] = D[i,j]\n",
      "    D1 = D + np.diag(np.ones(n,)* D.max())\n",
      "    nnd = D1.min(axis=1)\n",
      "    return nnd.mean()"
     ],
     "language": "python",
     "metadata": {},
     "outputs": [],
     "prompt_number": 2
    },
    {
     "cell_type": "code",
     "collapsed": false,
     "input": [
      "mean_nn(x,y)"
     ],
     "language": "python",
     "metadata": {},
     "outputs": [
      {
       "metadata": {},
       "output_type": "pyout",
       "prompt_number": 3,
       "text": [
        "1.7570282483386435"
       ]
      }
     ],
     "prompt_number": 3
    },
    {
     "cell_type": "code",
     "collapsed": false,
     "input": [
      "#comparing to a normal distribution under the null hypothesis\n",
      "def mean_nn_test(x,y, permutations=999):\n",
      "    observed = mean_nn(x,y)\n",
      "    ids = np.arange(len(x))\n",
      "    null_values = np.zeros((permutations,))\n",
      "    for i in range(permutations):\n",
      "        np.random.shuffle(ids)\n",
      "        rx = x[ids]\n",
      "        null_values[i] = mean_nn(rx,y)\n",
      "    larger = (null_values >= observed).sum()\n",
      "    if (permutations - larger) < larger:\n",
      "        larger = permutations - larger\n",
      "    pvalue = (larger + 1.) / (permutations + 1.)\n",
      "    return null_values, observed, pvalue # returns simulated statistics, observed value, pvalue"
     ],
     "language": "python",
     "metadata": {},
     "outputs": [],
     "prompt_number": 4
    },
    {
     "cell_type": "code",
     "collapsed": false,
     "input": [
      "h0 = mean_nn_test(x,y)\n",
      "h0"
     ],
     "language": "python",
     "metadata": {},
     "outputs": [
      {
       "metadata": {},
       "output_type": "pyout",
       "prompt_number": 5,
       "text": [
        "(array([ 2.68909508,  2.37658955,  2.78448935,  2.22960304,  2.58218521,\n",
        "         3.12624329,  2.43060383,  2.94901405,  2.68039577,  1.71909216,\n",
        "         2.97412855,  2.99690371,  2.20315698,  2.49087637,  3.1463639 ,\n",
        "         2.37709585,  2.98796542,  3.30944286,  2.40277668,  2.48792506,\n",
        "         2.79242819,  2.09553688,  2.53713792,  1.93425689,  2.43793859,\n",
        "         2.6947472 ,  3.07772155,  2.81231605,  2.56471728,  3.09352871,\n",
        "         2.04312331,  2.56351299,  2.28296146,  3.22165365,  2.60676223,\n",
        "         2.91331107,  2.10899372,  2.63072736,  2.47182073,  2.66326755,\n",
        "         2.87384085,  2.39639385,  2.57179629,  2.39723022,  3.15292704,\n",
        "         2.56971134,  2.84826224,  2.00459418,  2.82867017,  2.9854762 ,\n",
        "         2.72886069,  2.843779  ,  2.99492623,  3.25451947,  2.78276432,\n",
        "         3.42249306,  2.19604102,  2.73074523,  3.16323271,  3.02405004,\n",
        "         2.98224339,  2.30305095,  3.09162206,  2.85248577,  3.14555766,\n",
        "         3.17361624,  1.9791173 ,  2.52015918,  2.83464355,  2.95945896,\n",
        "         2.51432874,  2.35583099,  2.82269844,  2.77064501,  2.94061878,\n",
        "         2.03027664,  2.36488561,  3.54970006,  3.15117022,  2.92085021,\n",
        "         2.97623798,  2.81494987,  2.70511965,  3.45652404,  3.10177702,\n",
        "         2.98457294,  2.56306976,  3.18878633,  2.31405877,  2.9089319 ,\n",
        "         2.58675462,  3.32441725,  2.68918548,  2.35792894,  2.80668396,\n",
        "         2.30305095,  2.90593991,  2.60342156,  2.74656031,  3.34161733,\n",
        "         2.51257251,  3.39839282,  2.41228109,  2.05472834,  2.58022999,\n",
        "         3.08485096,  2.32736146,  2.59435905,  2.92558017,  3.18201894,\n",
        "         2.4083256 ,  2.74096577,  3.01024861,  2.76775877,  2.99327018,\n",
        "         3.03411912,  3.26452056,  2.66660092,  2.99748994,  3.32229166,\n",
        "         1.88688708,  2.13591083,  1.93796098,  2.58260745,  2.80755515,\n",
        "         2.32782164,  3.3256025 ,  2.77777594,  2.88112085,  3.0431388 ,\n",
        "         3.11961699,  3.42642245,  2.45873405,  2.65371506,  2.67729604,\n",
        "         2.48842507,  2.70313767,  2.17588604,  3.45255689,  2.15867124,\n",
        "         3.39354478,  3.18048831,  1.77050114,  1.77861608,  2.26019195,\n",
        "         2.10985883,  3.40715957,  2.50390859,  2.21579495,  2.36686597,\n",
        "         2.11482772,  3.32137608,  3.32377442,  2.26281916,  2.64573533,\n",
        "         3.44969494,  2.32225537,  2.30184308,  2.09720707,  2.77652501,\n",
        "         2.44767663,  2.13325115,  2.67340371,  2.82932037,  3.17361624,\n",
        "         2.52640726,  2.26868775,  3.06893967,  3.07399693,  2.88829344,\n",
        "         2.13013062,  2.7206126 ,  3.56721237,  2.40814396,  2.89960373,\n",
        "         2.52298812,  2.67788386,  2.06156051,  2.41447851,  2.15174101,\n",
        "         2.89864009,  3.05459835,  3.37956341,  1.98048156,  2.83893399,\n",
        "         2.86682611,  2.86912399,  2.92723292,  3.29682445,  2.36466342,\n",
        "         3.48308108,  2.35661437,  2.8494987 ,  2.80608905,  2.86187827,\n",
        "         2.5457221 ,  1.90654039,  2.29880298,  2.92868859,  3.49864593,\n",
        "         2.75973202,  1.98741468,  3.02869685,  2.39795796,  2.97412855,\n",
        "         2.296771  ,  2.17353418,  3.06016618,  2.45971539,  3.01215688,\n",
        "         3.0643032 ,  2.93064782,  3.06211158,  3.1618252 ,  3.18878633,\n",
        "         2.03494883,  2.99226313,  1.98911259,  3.39319191,  2.41999032,\n",
        "         2.81037668,  1.84318548,  2.86691573,  2.95121592,  2.86428151,\n",
        "         2.95969599,  2.4899875 ,  3.11954914,  2.95797588,  2.48926832,\n",
        "         2.88404997,  2.80208264,  2.1493196 ,  3.36400485,  2.56683711,\n",
        "         2.85042755,  2.85674834,  2.88879383,  2.71753076,  1.86322555,\n",
        "         3.39216579,  2.40031747,  2.78720548,  3.10997789,  2.52417802,\n",
        "         3.1725011 ,  3.06637269,  2.94753033,  2.99070883,  1.9911341 ,\n",
        "         2.82515506,  2.56166095,  2.79578419,  2.98530923,  2.28137363,\n",
        "         2.68062756,  3.56446057,  3.03962097,  2.85963725,  2.67873834,\n",
        "         2.48562661,  2.68147678,  2.80374334,  2.92654804,  2.46989189,\n",
        "         1.80247713,  2.64496395,  2.93305775,  2.26636579,  2.64849912,\n",
        "         2.78683534,  2.64792367,  2.04376816,  1.85902714,  1.74622264,\n",
        "         2.82828851,  3.0616455 ,  2.9143364 ,  2.2736104 ,  3.04501054,\n",
        "         3.27289792,  2.9503701 ,  2.91257255,  2.28295445,  2.97098339,\n",
        "         2.4401545 ,  1.97475416,  3.21470761,  2.79578419,  3.36742659,\n",
        "         2.79694582,  2.63759636,  3.02132292,  1.91318411,  3.04083881,\n",
        "         2.88500706,  3.45051443,  3.4222174 ,  2.72897419,  2.69000061,\n",
        "         2.96878221,  2.97801358,  3.27269595,  2.40038421,  2.66528501,\n",
        "         2.2015319 ,  1.66234775,  2.44367396,  3.17373053,  2.13264709,\n",
        "         2.8222198 ,  3.02313942,  3.14478777,  2.19291293,  2.4356725 ,\n",
        "         3.10392482,  2.86857629,  3.32086354,  1.97777727,  1.91653252,\n",
        "         2.5325564 ,  2.57977278,  3.38800507,  3.16719975,  2.86443347,\n",
        "         2.81578637,  3.12052252,  3.37755099,  3.07265911,  3.29049109,\n",
        "         2.84253712,  2.14865208,  2.69750903,  2.38795243,  2.01718608,\n",
        "         2.84458912,  2.31153131,  2.78340581,  2.82932816,  2.83535677,\n",
        "         1.81633021,  2.92836842,  2.83424956,  2.61426729,  3.17620519,\n",
        "         2.56656933,  3.04998092,  2.95355286,  3.25708832,  3.00014789,\n",
        "         3.0334052 ,  3.37425033,  3.06813513,  2.67853299,  2.58672843,\n",
        "         2.96835058,  2.85641234,  3.16182953,  3.02872064,  2.86161048,\n",
        "         2.81593035,  2.14355191,  2.321775  ,  2.71727513,  2.86623828,\n",
        "         2.69572262,  2.90805558,  3.17913625,  1.93561815,  2.1171027 ,\n",
        "         3.31678177,  3.28908409,  3.11638338,  2.92581069,  3.4495974 ,\n",
        "         3.09191484,  2.92885863,  1.97300702,  2.51172034,  2.1288171 ,\n",
        "         2.83912416,  2.8154767 ,  2.91363305,  2.78276432,  2.82792432,\n",
        "         3.49612891,  2.53157096,  2.57982956,  2.58629538,  2.62268995,\n",
        "         1.93702443,  1.79806628,  2.3359237 ,  2.41223139,  3.01001303,\n",
        "         2.87787814,  2.87707865,  1.99296816,  2.53458858,  2.57577475,\n",
        "         2.3980298 ,  2.41553874,  3.00906492,  3.1785945 ,  2.00594308,\n",
        "         1.92299933,  3.10276499,  1.86457444,  3.28561444,  2.58813712,\n",
        "         3.30628828,  3.32926206,  3.22539182,  2.97312784,  1.97616855,\n",
        "         1.94009572,  2.67678348,  2.52824731,  2.56471728,  2.86341115,\n",
        "         2.60839142,  2.51662917,  2.73681054,  2.95477375,  2.84865446,\n",
        "         2.7032008 ,  2.82880877,  3.39138612,  3.09552167,  2.60932819,\n",
        "         3.50553577,  2.52298812,  2.67380997,  3.29141112,  2.50985466,\n",
        "         2.71138801,  2.97474994,  2.97774441,  2.09637948,  2.38973925,\n",
        "         3.03278816,  3.33716882,  3.05467781,  2.25587279,  2.56121747,\n",
        "         3.02609072,  2.58211445,  3.02965522,  3.08485096,  2.48926832,\n",
        "         2.10985883,  2.46485409,  2.95121695,  2.93784928,  3.45604128,\n",
        "         2.70877088,  3.04515323,  2.67287492,  2.65134721,  3.21269944,\n",
        "         3.6154857 ,  2.60832156,  3.45249717,  3.62793287,  3.15294479,\n",
        "         2.51978945,  2.94301609,  3.09102871,  2.01403066,  2.94705238,\n",
        "         3.4762706 ,  3.19317641,  2.40044768,  2.9590953 ,  2.57920043,\n",
        "         3.48207794,  2.44046388,  3.1487035 ,  2.99380914,  2.49907277,\n",
        "         3.08169127,  2.99790524,  2.80761748,  2.86573709,  2.16406083,\n",
        "         2.86660028,  2.96914395,  2.90077475,  2.32690819,  3.32006495,\n",
        "         2.95354418,  2.60656608,  3.00059828,  3.31750873,  2.94658769,\n",
        "         2.8300924 ,  2.67472543,  3.28447247,  2.39189453,  2.82789215,\n",
        "         3.22126244,  2.14032345,  2.69178959,  2.41056758,  2.5928271 ,\n",
        "         2.26437596,  2.8386983 ,  2.93740849,  2.88099908,  3.10272332,\n",
        "         3.00265596,  2.44233694,  2.83635466,  2.75949019,  2.20381886,\n",
        "         2.33753572,  1.78663863,  2.81222626,  2.52417802,  2.43971736,\n",
        "         2.60160532,  3.17011562,  3.48966177,  3.29943044,  3.33991209,\n",
        "         3.28444381,  2.86822925,  3.22046085,  2.88500706,  2.81461024,\n",
        "         2.44246156,  2.60077635,  2.52021862,  2.83582032,  2.75093985,\n",
        "         2.88456066,  2.76285815,  3.24695856,  3.0219181 ,  2.22601724,\n",
        "         2.3041601 ,  2.10203499,  2.8428112 ,  3.27470474,  3.23538354,\n",
        "         2.72939817,  3.09960832,  2.39526321,  3.0643032 ,  3.10329664,\n",
        "         3.04483757,  3.35376504,  2.33255083,  2.88274854,  2.71617003,\n",
        "         1.78628309,  2.47570402,  2.0521124 ,  2.075938  ,  2.35539651,\n",
        "         3.28729029,  3.35255693,  2.49264001,  2.76466592,  3.05440614,\n",
        "         2.93200066,  2.70221729,  2.94373132,  2.68257948,  2.47884103,\n",
        "         2.93162314,  2.26990632,  1.99603955,  2.89495614,  1.81291365,\n",
        "         2.56978036,  3.03552312,  2.83464355,  3.11052573,  2.75062072,\n",
        "         2.82241871,  2.33559422,  2.58813712,  2.20167286,  3.05964595,\n",
        "         3.14855283,  3.08957564,  1.96595735,  3.02330304,  1.95830778,\n",
        "         3.02705842,  2.72176385,  2.70261158,  2.44293198,  1.89508666,\n",
        "         2.29499349,  2.6034934 ,  3.55333911,  2.84399531,  3.55780346,\n",
        "         2.80330035,  2.48791877,  2.62812735,  3.27353638,  2.53272791,\n",
        "         2.40407692,  2.75093985,  2.62039024,  2.04664015,  2.80502843,\n",
        "         3.25961111,  3.32783983,  3.34980466,  2.7357008 ,  3.16829978,\n",
        "         2.84581001,  2.92506484,  2.52287676,  2.72224423,  3.10549387,\n",
        "         3.28101134,  3.49053281,  1.81633021,  2.38423122,  3.56567868,\n",
        "         2.53324246,  2.69448847,  3.34062109,  2.61219885,  2.20286199,\n",
        "         2.13816175,  2.67729604,  3.09622628,  2.84249036,  2.88506728,\n",
        "         2.55179778,  2.66811029,  2.32794119,  2.82139686,  2.63102383,\n",
        "         2.16406083,  1.90931274,  3.3057855 ,  2.64438644,  2.50191323,\n",
        "         1.78611915,  2.45038324,  3.30507193,  2.92836842,  2.70261158,\n",
        "         2.05388575,  2.47313424,  1.72186198,  2.93697879,  3.15384851,\n",
        "         1.77885099,  3.27833996,  2.28579166,  2.45138072,  2.02013985,\n",
        "         2.98137085,  2.49982172,  2.60058973,  3.43774782,  1.71364867,\n",
        "         3.06969491,  2.59549411,  2.94987548,  2.77142692,  2.70376622,\n",
        "         2.88853265,  3.2802051 ,  3.02376228,  2.76869034,  2.740686  ,\n",
        "         2.35637869,  1.80096652,  3.16008563,  2.74102735,  2.3443345 ,\n",
        "         2.75454764,  3.139001  ,  2.80157986,  2.94131309,  2.67103823,\n",
        "         2.07013086,  2.86742317,  3.1709564 ,  2.73776875,  2.91817206,\n",
        "         2.91349821,  2.6390026 ,  2.44246156,  2.83858982,  2.03094546,\n",
        "         2.86005114,  2.60077635,  2.57179629,  3.22500261,  2.97740624,\n",
        "         2.34716534,  2.55896401,  2.62999698,  3.22728014,  3.02558443,\n",
        "         3.29101586,  3.56306535,  2.4628154 ,  2.09135391,  2.95227629,\n",
        "         2.28408173,  2.84365751,  2.44070809,  2.34114943,  2.48926832,\n",
        "         3.04620679,  2.89829481,  2.73247415,  2.84672089,  2.8598283 ,\n",
        "         3.16608019,  2.74809768,  2.11872691,  3.12824503,  3.53054474,\n",
        "         2.11960465,  2.35076924,  2.9572341 ,  2.72252835,  2.64759915,\n",
        "         1.93165661,  2.37658955,  2.52207137,  3.19304128,  2.47389658,\n",
        "         2.92581069,  2.51928404,  2.7490205 ,  2.7496918 ,  2.32225537,\n",
        "         2.47122557,  3.00108289,  1.93165661,  2.02876444,  2.59029007,\n",
        "         2.44575359,  2.38708351,  2.48612117,  2.46671969,  3.38781698,\n",
        "         3.27138077,  2.88004709,  3.11053672,  2.37709585,  1.94675988,\n",
        "         2.98515107,  1.80633258,  3.2002541 ,  3.10172385,  2.214418  ,\n",
        "         2.35539651,  2.97173707,  2.97321442,  2.17370526,  1.80936092,\n",
        "         2.51204459,  1.72031588,  2.19295001,  2.97703361,  2.35700636,\n",
        "         2.40883337,  2.53155613,  2.99674425,  2.82837312,  2.34760606,\n",
        "         2.9572341 ,  2.39275596,  2.67064626,  2.78720548,  2.3975931 ,\n",
        "         2.95888978,  2.94301609,  2.69550248,  2.74660088,  2.47722333,\n",
        "         2.66684126,  2.97065736,  2.39943726,  2.930067  ,  2.52893344,\n",
        "         2.21479028,  2.82141609,  3.15151106,  2.57172069,  2.5320788 ,\n",
        "         3.11960733,  2.767479  ,  2.14538471,  2.63488016,  3.12998745,\n",
        "         3.09157399,  3.3798348 ,  2.60046489,  3.18706576,  2.70114071,\n",
        "         2.46994525,  3.03278816,  2.8909008 ,  3.14384332,  2.74905898,\n",
        "         2.28948147,  2.01591593,  2.15495811,  2.9950704 ,  3.04227223,\n",
        "         2.93964788,  2.15385818,  2.35759162,  2.11118846,  2.48530065,\n",
        "         3.20653538,  2.55639006,  3.27717016,  3.56741945,  3.11793787,\n",
        "         2.76087311,  2.79368919,  3.00954551,  2.57172069,  3.14429804,\n",
        "         2.39513016,  2.24396776,  3.1694017 ,  2.33707196,  2.41863978,\n",
        "         2.26684617,  3.24025537,  2.46649441,  2.6837199 ,  2.82792432,\n",
        "         2.27583869,  2.87962299,  2.4665187 ,  2.91817206,  3.26287256,\n",
        "         3.29682445,  2.83535677,  3.38825412,  2.66904488,  2.84407925,\n",
        "         2.31422734,  2.48926832,  2.70237765,  3.31469091,  3.03139456,\n",
        "         3.56503694,  2.58276937,  3.45652404,  2.80332648,  2.33606677,\n",
        "         2.88853265,  3.13623278,  2.75604751,  2.74984081,  2.84565944,\n",
        "         3.46967816,  3.00089466,  2.4876395 ,  3.17194835,  2.48215493,\n",
        "         2.82142123,  3.11389467,  2.93549109,  1.68988676,  2.5387723 ,\n",
        "         2.97111403,  3.31194736,  2.71316059,  3.36769895,  2.96783496,\n",
        "         2.9399498 ,  2.81081727,  2.95762056,  2.92564779,  2.48902487,\n",
        "         2.8604831 ,  2.67226051,  2.82425815,  2.9665089 ,  3.00248294,\n",
        "         2.94940865,  2.83882797,  3.1169276 ,  2.70107334,  3.28444381,\n",
        "         2.4643089 ,  2.92192822,  3.49365021,  3.17704473,  2.70500684,\n",
        "         2.86074707,  3.31148573,  2.98181037,  2.66751091,  2.160298  ,\n",
        "         2.1555318 ,  2.13629196,  2.80761748,  2.90830435,  2.8950779 ,\n",
        "         2.55552904,  1.99326927,  2.67010589,  3.29091654,  2.43980776,\n",
        "         2.28456153,  2.3547832 ,  2.41504977,  2.07200795,  2.87405663,\n",
        "         2.19006004,  3.61440878,  2.56971134,  2.70221729,  1.80920956,\n",
        "         2.50450646,  3.3120463 ,  2.49598305,  2.70290132,  2.02748853,\n",
        "         2.99480881,  2.81965364,  2.06200648,  1.96375194,  2.67145363,\n",
        "         2.89783304,  2.60269383,  2.82981263,  1.79713169,  2.32361187,\n",
        "         3.09870314,  2.76235312,  2.59273497,  2.77159742,  2.76855349,\n",
        "         2.34531329,  2.92925006,  2.76721216,  3.50255578,  2.83273774,\n",
        "         2.71178231,  2.6615952 ,  3.56334101,  2.16473829,  2.04785778,\n",
        "         2.68986488,  3.12907732,  2.83300129,  2.24396776,  3.23852827,\n",
        "         2.46963684,  3.07712515,  1.93266128,  2.42659687,  3.20539777,\n",
        "         2.47351924,  2.73572449,  2.34071548,  2.23521035,  3.19170527,\n",
        "         2.80245694,  3.09632791,  2.92641251,  2.03834995,  2.69581016,\n",
        "         1.86457444,  2.66940946,  2.55592398,  3.06809144,  2.8884816 ,\n",
        "         2.91877436,  2.71547146,  3.37868605,  2.27938942,  2.3642689 ,\n",
        "         2.56028828,  3.62982118,  2.33222998,  2.77236169,  3.28531507,\n",
        "         3.19904737,  2.82981263,  3.2837624 ,  2.33559422,  2.7859266 ,\n",
        "         2.67758304,  3.18294059,  2.86053623,  2.7067811 ]),\n",
        " 1.7570282483386435,\n",
        " 0.0080000000000000002)"
       ]
      }
     ],
     "prompt_number": 5
    },
    {
     "cell_type": "code",
     "collapsed": false,
     "input": [
      "#distribution can be plotted for visual translation of data outputs\n",
      "from scipy.stats import  gaussian_kde\n",
      "%pylab inline\n",
      "\n",
      "sim, obs, pvalue = mean_nn_test(x,y)\n",
      "\n",
      "density = gaussian_kde(sim)\n",
      "xs = np.linspace(0.8*min(sim),max(sim)*1.2,200)\n",
      "plot(xs,density(xs))\n",
      "axvline(x=obs, color='r')\n",
      "xlabel('mean_nn')\n",
      "ylabel('f(mean_nn)')"
     ],
     "language": "python",
     "metadata": {},
     "outputs": [
      {
       "output_type": "stream",
       "stream": "stdout",
       "text": [
        "Populating the interactive namespace from numpy and matplotlib\n"
       ]
      },
      {
       "metadata": {},
       "output_type": "pyout",
       "prompt_number": 6,
       "text": [
        "<matplotlib.text.Text at 0xb083e3ec>"
       ]
      },
      {
       "metadata": {},
       "output_type": "display_data",
       "png": "[encoded data removed]",
       "text": [
        "<matplotlib.figure.Figure at 0xb212f52c>"
       ]
      }
     ],
     "prompt_number": 6
    },
    {
     "cell_type": "markdown",
     "metadata": {},
     "source": [
      "###The G Function"
     ]
    },
    {
     "cell_type": "code",
     "collapsed": false,
     "input": [
      "#To run the G function we need to start with a distance matrix for our observed data.\n",
      "#We create a new function, similar to mean_nn, but this one returns the top half of the\n",
      "#distance matrix, with 0 values removed. \n",
      "\n",
      "def G_matrix(x,y):\n",
      "    n = len(x)\n",
      "    D = np.zeros((n,n))\n",
      "    for i in range(n-1):\n",
      "        for j in range(i+1, n):\n",
      "            xd = x[i]-x[j]\n",
      "            yd = y[i]-y[j]\n",
      "            D[i,j] = np.sqrt(xd*xd + yd*yd)\n",
      "            D[j,i] = D[i,j]\n",
      "    D1 = D[np.triu_indices_from(D)]\n",
      "    D1 = D1[D1>0]\n",
      "    return D1\n",
      "\n",
      "def G_nn(x,y):\n",
      "    n = len(x)\n",
      "    D = np.zeros((n,n))\n",
      "    for i in range(n-1):\n",
      "        for j in range(i+1, n):\n",
      "            xd = x[i]-x[j]\n",
      "            yd = y[i]-y[j]\n",
      "            D[i,j] = np.sqrt(xd*xd + yd*yd)\n",
      "            D[j,i] = D[i,j]\n",
      "    D1 = D + np.diag(np.ones(n,)* D.max())\n",
      "    nnd = D1.min(axis=1)\n",
      "    return nnd"
     ],
     "language": "python",
     "metadata": {},
     "outputs": [],
     "prompt_number": 7
    },
    {
     "cell_type": "code",
     "collapsed": false,
     "input": [
      "g0 = G_matrix(x,y)\n",
      "g0\n",
      "\n",
      "g1 = G_nn(x,y)\n",
      "g1"
     ],
     "language": "python",
     "metadata": {},
     "outputs": [
      {
       "metadata": {},
       "output_type": "pyout",
       "prompt_number": 8,
       "text": [
        "array([ 0.2236068 ,  0.14142136,  0.14142136,  7.07106781,  2.23606798,\n",
        "        1.41421356,  1.41421356,  1.41421356])"
       ]
      }
     ],
     "prompt_number": 8
    },
    {
     "cell_type": "code",
     "collapsed": false,
     "input": [
      "#Make a new function that will plot the cumulative distance function, and nest the\n",
      "#G_matrix function within the new plotting function. The number of nearest neighbor pair \n",
      "#distances (y axis) lower than a certain distance (x axis) are plotted. Clustered points \n",
      "#will have a graph that rises quickly at the smaller test distances.\n",
      "%pylab inline\n",
      "def G_plot(x,y):\n",
      "    D1 = G_nn(x,y)\n",
      "    DMAX = D1.max()\n",
      "    DMIN = D1.min()\n",
      "    n = len(x)\n",
      "    d = np.linspace(0,DMAX)\n",
      "    counts, bins = np.histogram(D1, d)\n",
      "    plot(bins[1:], counts.cumsum())\n",
      "    n = max(counts.cumsum())\n",
      "    ylim(0,n)\n",
      "    title(\"Cumulative pairwise distance function\")"
     ],
     "language": "python",
     "metadata": {},
     "outputs": [
      {
       "output_type": "stream",
       "stream": "stdout",
       "text": [
        "Populating the interactive namespace from numpy and matplotlib\n"
       ]
      }
     ],
     "prompt_number": 9
    },
    {
     "cell_type": "code",
     "collapsed": false,
     "input": [
      "g1 = G_plot(x,y)"
     ],
     "language": "python",
     "metadata": {},
     "outputs": [
      {
       "metadata": {},
       "output_type": "display_data",
       "png": "[encoded data removed]",
       "text": [
        "<matplotlib.figure.Figure at 0xb083e92c>"
       ]
      }
     ],
     "prompt_number": 10
    },
    {
     "cell_type": "code",
     "collapsed": false,
     "input": [
      "#Now we need to figure out if this is statistically significant or not!\n",
      "#Like with the mean_nn_test, we will need to create random point sets and run\n",
      "#multiple permutations to create a normal distribution for comparison."
     ],
     "language": "python",
     "metadata": {},
     "outputs": []
    }
   ],
   "metadata": {}
  }
 ]
}