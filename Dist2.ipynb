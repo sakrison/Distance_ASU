{
 "metadata": {
  "name": "",
  "signature": "sha256:9b71329eef51bb467609751153492e4f2b69e6e24aeb14e15a48839fa02a9bd3"
 },
 "nbformat": 3,
 "nbformat_minor": 0,
 "worksheets": [
  {
   "cells": [
    {
     "cell_type": "code",
     "collapsed": false,
     "input": [
      "import numpy as np\n",
      "import scipy\n",
      "\n",
      "# user will provide lists of x and y coordinates\n",
      "x = [1,1.2,1.3,8,9,10,11,12]\n",
      "y =[4.1,4.2,4.3,1,8,10,11,12]\n",
      "\n",
      "#lists must be converted to numpy arrays\n",
      "x = np.array(x)\n",
      "y = np.array(y)"
     ],
     "language": "python",
     "metadata": {},
     "outputs": [],
     "prompt_number": 20
    },
    {
     "cell_type": "code",
     "collapsed": false,
     "input": [
      "#simplified distance matrix from Serge\n",
      "def mean_nn(x,y):\n",
      "    n = len(x)\n",
      "    D = np.zeros((n,n))\n",
      "    for i in range(n-1):\n",
      "        for j in range(i+1, n):\n",
      "            xd = x[i]-x[j]\n",
      "            yd = y[i]-y[j]\n",
      "            D[i,j] = np.sqrt(xd*xd + yd*yd)\n",
      "            D[j,i] = D[i,j]\n",
      "    D1 = D + np.diag(np.ones(n,)* D.max())\n",
      "    nnd = D1.min(axis=1)\n",
      "    return nnd.mean()"
     ],
     "language": "python",
     "metadata": {},
     "outputs": [],
     "prompt_number": 21
    },
    {
     "cell_type": "code",
     "collapsed": false,
     "input": [
      "mean_nn(x,y)"
     ],
     "language": "python",
     "metadata": {},
     "outputs": [
      {
       "metadata": {},
       "output_type": "pyout",
       "prompt_number": 22,
       "text": [
        "1.7570282483386435"
       ]
      }
     ],
     "prompt_number": 22
    },
    {
     "cell_type": "code",
     "collapsed": false,
     "input": [
      "#comparing to a normal distribution under the null hypothesis\n",
      "def mean_nn_test(x,y, permutations=99):\n",
      "    observed = mean_nn(x,y)\n",
      "    ids = np.arange(len(x))\n",
      "    null_values = np.zeros((permutations,))\n",
      "    for i in range(permutations):\n",
      "        np.random.shuffle(ids)\n",
      "        rx = x[ids]\n",
      "        null_values[i] = mean_nn(rx,y)\n",
      "    larger = (null_values >= observed).sum()\n",
      "    if (permutations - larger) < larger:\n",
      "        larger = permutations - larger\n",
      "    pvalue = (larger + 1.) / (permutations + 1.)\n",
      "    return null_values, observed, pvalue # returns simulated statistics, observed value, pvalue"
     ],
     "language": "python",
     "metadata": {},
     "outputs": [],
     "prompt_number": 23
    },
    {
     "cell_type": "code",
     "collapsed": false,
     "input": [
      "h0 = mean_nn_test(x,y)\n",
      "h0"
     ],
     "language": "python",
     "metadata": {},
     "outputs": [
      {
       "metadata": {},
       "output_type": "pyout",
       "prompt_number": 25,
       "text": [
        "(array([ 2.68142714,  3.17361624,  2.94934777,  2.05021344,  2.41813946,\n",
        "         2.79554123,  2.98818862,  3.06149888,  2.82706903,  2.17286266,\n",
        "         2.81074468,  2.60898221,  2.51746807,  2.92211446,  2.94017705,\n",
        "         3.19596582,  2.41002294,  2.12148298,  2.95450888,  2.72292291,\n",
        "         2.74441345,  2.90358829,  2.81873869,  2.71995441,  2.44128441,\n",
        "         3.33716882,  2.86557784,  2.96990761,  2.8935461 ,  3.00540298,\n",
        "         2.73564009,  2.74933691,  2.3547832 ,  2.53075135,  2.94940865,\n",
        "         2.77063389,  3.08573238,  2.80463242,  2.21978149,  2.27654606,\n",
        "         1.89455514,  2.59109519,  2.9738858 ,  2.15645719,  3.01024861,\n",
        "         2.38705241,  2.29906302,  3.31553351,  1.9739805 ,  3.03297934,\n",
        "         2.91605244,  3.50674388,  2.59520286,  2.696816  ,  2.69540454,\n",
        "         2.35006544,  2.74691981,  2.87352746,  2.62039024,  2.49126103,\n",
        "         2.3443345 ,  2.29521981,  3.01296567,  2.90384709,  2.9122779 ,\n",
        "         2.94441302,  2.55480734,  3.04938187,  2.01531061,  1.72561592,\n",
        "         2.88084108,  2.46480141,  2.42475746,  2.52417802,  2.99702402,\n",
        "         2.89771764,  3.07771411,  3.22755991,  2.81519692,  3.15233703,\n",
        "         2.20713012,  2.15246534,  3.12208341,  2.87523793,  3.01078   ,\n",
        "         2.85449345,  3.07450602,  2.82087353,  2.93446413,  2.97710094,\n",
        "         2.52927779,  3.05440614,  3.21652705,  2.94350734,  2.33087441,\n",
        "         2.83130339,  2.47074115,  2.85271145,  2.86742317]),\n",
        " 1.7570282483386435,\n",
        " 0.02)"
       ]
      }
     ],
     "prompt_number": 25
    },
    {
     "cell_type": "code",
     "collapsed": false,
     "input": [
      "#distribution can be plotted for visual translation of data outputs\n",
      "from scipy.stats import  gaussian_kde\n",
      "%pylab inline\n",
      "\n",
      "sim, obs, pvalue = mean_nn_test(x,y)\n",
      "\n",
      "density = gaussian_kde(sim)\n",
      "xs = np.linspace(0.8*min(sim),max(sim)*1.2,200)\n",
      "plot(xs,density(xs))\n",
      "axvline(x=obs, color='r')\n",
      "xlabel('mean_nn')\n",
      "ylabel('f(mean_nn)')"
     ],
     "language": "python",
     "metadata": {},
     "outputs": [
      {
       "output_type": "stream",
       "stream": "stdout",
       "text": [
        "Populating the interactive namespace from numpy and matplotlib\n"
       ]
      },
      {
       "metadata": {},
       "output_type": "pyout",
       "prompt_number": 26,
       "text": [
        "<matplotlib.text.Text at 0xb0822fac>"
       ]
      },
      {
       "metadata": {},
       "output_type": "display_data",
       "png": "[encoded data removed]",
       "text": [
        "<matplotlib.figure.Figure at 0xb140de8c>"
       ]
      }
     ],
     "prompt_number": 26
    },
    {
     "cell_type": "code",
     "collapsed": false,
     "input": [],
     "language": "python",
     "metadata": {},
     "outputs": []
    }
   ],
   "metadata": {}
  }
 ]
}