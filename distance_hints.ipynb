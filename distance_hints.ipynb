{
 "metadata": {
  "name": "",
  "signature": "sha256:4786f13a711402fb682a0ef6ffd4fb70bae8441227fb42d932a53c30d3726c75"
 },
 "nbformat": 3,
 "nbformat_minor": 0,
 "worksheets": [
  {
   "cells": [
    {
     "cell_type": "code",
     "collapsed": false,
     "input": [
      "import numpy as np"
     ],
     "language": "python",
     "metadata": {},
     "outputs": [],
     "prompt_number": 30
    },
    {
     "cell_type": "markdown",
     "metadata": {},
     "source": [
      "## Distance matrix"
     ]
    },
    {
     "cell_type": "code",
     "collapsed": false,
     "input": [
      "# fake data\n",
      "n = 5\n",
      "x = np.random.uniform(10,20,n)\n",
      "y = np.random.uniform(10,20,n)"
     ],
     "language": "python",
     "metadata": {},
     "outputs": [],
     "prompt_number": 31
    },
    {
     "cell_type": "code",
     "collapsed": false,
     "input": [
      "# pretend like you don't know n\n",
      "\n",
      "n = len(x)\n",
      "\n",
      "D = np.zeros((n,n))\n",
      "for i in range(n-1):\n",
      "    for j in range(i+1, n):\n",
      "        xd = x[i]-x[j]\n",
      "        yd = y[i]-y[j]\n",
      "        D[i,j] = np.sqrt(xd*xd + yd*yd)\n",
      "        D[j,i] = D[i,j]"
     ],
     "language": "python",
     "metadata": {},
     "outputs": [],
     "prompt_number": 32
    },
    {
     "cell_type": "code",
     "collapsed": false,
     "input": [
      "D"
     ],
     "language": "python",
     "metadata": {},
     "outputs": [
      {
       "metadata": {},
       "output_type": "pyout",
       "prompt_number": 33,
       "text": [
        "array([[ 0.        ,  8.05089708,  6.15679506,  6.00742423,  4.60763126],\n",
        "       [ 8.05089708,  0.        ,  2.99242219,  6.35545772,  3.44560976],\n",
        "       [ 6.15679506,  2.99242219,  0.        ,  6.99671736,  2.42226127],\n",
        "       [ 6.00742423,  6.35545772,  6.99671736,  0.        ,  4.66828147],\n",
        "       [ 4.60763126,  3.44560976,  2.42226127,  4.66828147,  0.        ]])"
       ]
      }
     ],
     "prompt_number": 33
    },
    {
     "cell_type": "code",
     "collapsed": false,
     "input": [
      "D1 = D + np.diag(np.ones(n,)* D.max())\n"
     ],
     "language": "python",
     "metadata": {},
     "outputs": [],
     "prompt_number": 34
    },
    {
     "cell_type": "code",
     "collapsed": false,
     "input": [
      "D1"
     ],
     "language": "python",
     "metadata": {},
     "outputs": [
      {
       "metadata": {},
       "output_type": "pyout",
       "prompt_number": 35,
       "text": [
        "array([[ 8.05089708,  8.05089708,  6.15679506,  6.00742423,  4.60763126],\n",
        "       [ 8.05089708,  8.05089708,  2.99242219,  6.35545772,  3.44560976],\n",
        "       [ 6.15679506,  2.99242219,  8.05089708,  6.99671736,  2.42226127],\n",
        "       [ 6.00742423,  6.35545772,  6.99671736,  8.05089708,  4.66828147],\n",
        "       [ 4.60763126,  3.44560976,  2.42226127,  4.66828147,  8.05089708]])"
       ]
      }
     ],
     "prompt_number": 35
    },
    {
     "cell_type": "code",
     "collapsed": false,
     "input": [
      "# nearest neighbor distances\n",
      "nnd = D1.min(axis=1)"
     ],
     "language": "python",
     "metadata": {},
     "outputs": [],
     "prompt_number": 36
    },
    {
     "cell_type": "code",
     "collapsed": false,
     "input": [
      "nnd"
     ],
     "language": "python",
     "metadata": {},
     "outputs": [
      {
       "metadata": {},
       "output_type": "pyout",
       "prompt_number": 37,
       "text": [
        "array([ 4.60763126,  2.99242219,  2.42226127,  4.66828147,  2.42226127])"
       ]
      }
     ],
     "prompt_number": 37
    },
    {
     "cell_type": "code",
     "collapsed": false,
     "input": [
      "# find who the nearest neighbor is for each event point\n",
      "\n",
      "D1.argmin(axis=1)"
     ],
     "language": "python",
     "metadata": {},
     "outputs": [
      {
       "metadata": {},
       "output_type": "pyout",
       "prompt_number": 38,
       "text": [
        "array([4, 2, 4, 4, 2])"
       ]
      }
     ],
     "prompt_number": 38
    },
    {
     "cell_type": "markdown",
     "metadata": {},
     "source": [
      "# As a function and comparing to a distribution under the null"
     ]
    },
    {
     "cell_type": "code",
     "collapsed": false,
     "input": [
      "def mean_nn(x,y):\n",
      "    n = len(x)\n",
      "    D = np.zeros((n,n))\n",
      "    for i in range(n-1):\n",
      "        for j in range(i+1, n):\n",
      "            xd = x[i]-x[j]\n",
      "            yd = y[i]-y[j]\n",
      "            D[i,j] = np.sqrt(xd*xd + yd*yd)\n",
      "            D[j,i] = D[i,j]\n",
      "    D1 = D + np.diag(np.ones(n,)* D.max())\n",
      "    nnd = D1.min(axis=1)\n",
      "    return nnd.mean()\n",
      "\n",
      "            \n",
      "    "
     ],
     "language": "python",
     "metadata": {},
     "outputs": [],
     "prompt_number": 39
    },
    {
     "cell_type": "code",
     "collapsed": false,
     "input": [
      "mean_nn(x,y)"
     ],
     "language": "python",
     "metadata": {},
     "outputs": [
      {
       "metadata": {},
       "output_type": "pyout",
       "prompt_number": 40,
       "text": [
        "3.4225714945245387"
       ]
      }
     ],
     "prompt_number": 40
    },
    {
     "cell_type": "code",
     "collapsed": false,
     "input": [
      "def mean_nn_test(x,y, permutations=99):\n",
      "    observed = mean_nn(x,y)\n",
      "    ids = np.arange(len(x))\n",
      "    null_values = np.zeros((permutations,))\n",
      "    for i in range(permutations):\n",
      "        np.random.shuffle(ids)\n",
      "        rx = x[ids]\n",
      "        null_values[i] = mean_nn(rx,y)\n",
      "    larger = (null_values >= observed).sum()\n",
      "    if (permutations - larger) < larger:\n",
      "        larger = permutations - larger\n",
      "    pvalue = (larger + 1.) / (permutations + 1.)\n",
      "    return null_values, observed, pvalue # returns simulated statistics, observed value, pvalue"
     ],
     "language": "python",
     "metadata": {},
     "outputs": [],
     "prompt_number": 41
    },
    {
     "cell_type": "code",
     "collapsed": false,
     "input": [
      "h0 = mean_nn_test(x,y)\n",
      "h0"
     ],
     "language": "python",
     "metadata": {},
     "outputs": [
      {
       "metadata": {},
       "output_type": "pyout",
       "prompt_number": 42,
       "text": [
        "(array([ 3.47975745,  3.49644533,  2.94481192,  1.30423229,  3.32473727,\n",
        "         3.15764662,  2.94333812,  2.58284245,  3.451673  ,  2.2690335 ,\n",
        "         2.84659542,  3.31819561,  3.45001002,  3.1353526 ,  3.17728689,\n",
        "         2.29304843,  3.18219032,  2.89172815,  2.61916465,  3.48424997,\n",
        "         3.32516577,  3.32835373,  3.18219032,  3.52479334,  2.2690335 ,\n",
        "         3.0157848 ,  2.93787955,  3.08966752,  3.62468282,  2.58284245,\n",
        "         3.1353526 ,  3.47975745,  3.56533711,  3.41654754,  2.94333812,\n",
        "         2.47549856,  3.13782298,  3.48424997,  2.49023562,  2.58284245,\n",
        "         3.0310058 ,  3.1846607 ,  3.32473727,  2.9213598 ,  3.17728689,\n",
        "         2.79967203,  1.48016058,  2.47549856,  1.30423229,  3.37436383,\n",
        "         3.18219032,  2.98279646,  3.1353526 ,  2.47102694,  3.36037932,\n",
        "         2.55566842,  3.18219032,  3.13507447,  3.08966752,  3.0157848 ,\n",
        "         1.51857668,  3.4641972 ,  3.32516577,  3.48982001,  2.94333812,\n",
        "         2.92662825,  2.55566842,  2.84659542,  2.51075151,  1.72427437,\n",
        "         1.51857668,  2.80189433,  3.0157848 ,  1.48016058,  2.79967203,\n",
        "         2.80189433,  3.1846607 ,  2.80189433,  3.13782298,  1.88733992,\n",
        "         1.48016058,  2.47102694,  2.51075151,  3.15445866,  3.32835373,\n",
        "         2.04031221,  3.26667659,  2.04031221,  2.94481192,  2.94481192,\n",
        "         2.2690335 ,  3.63007333,  3.0706078 ,  2.31380582,  2.92662825,\n",
        "         3.4641972 ,  3.26667659,  3.08847801,  1.51857668]),\n",
        " 3.4225714945245387,\n",
        " 0.14999999999999999)"
       ]
      }
     ],
     "prompt_number": 42
    },
    {
     "cell_type": "markdown",
     "metadata": {},
     "source": [
      "## Density plots"
     ]
    },
    {
     "cell_type": "code",
     "collapsed": false,
     "input": [
      "from scipy.stats import  gaussian_kde\n",
      "%pylab inline\n",
      "\n",
      "sim, obs, pvalue = mean_nn_test(x,y)\n",
      "\n",
      "density = gaussian_kde(sim)\n",
      "xs = np.linspace(0.8*min(sim),max(sim)*1.2,200)\n",
      "plot(xs,density(xs))\n",
      "axvline(x=obs, color='r')\n",
      "xlabel('mean_nn')\n",
      "ylabel('f(mean_nn)')"
     ],
     "language": "python",
     "metadata": {},
     "outputs": [
      {
       "output_type": "stream",
       "stream": "stdout",
       "text": [
        "Populating the interactive namespace from numpy and matplotlib\n"
       ]
      },
      {
       "metadata": {},
       "output_type": "pyout",
       "prompt_number": 43,
       "text": [
        "<matplotlib.text.Text at 0x107c54550>"
       ]
      },
      {
       "metadata": {},
       "output_type": "display_data",
       "png": "[encoded data removed]",
       "text": [
        "<matplotlib.figure.Figure at 0x106682690>"
       ]
      }
     ],
     "prompt_number": 43
    },
    {
     "cell_type": "code",
     "collapsed": false,
     "input": [
      "obs, pvalue"
     ],
     "language": "python",
     "metadata": {},
     "outputs": [
      {
       "metadata": {},
       "output_type": "pyout",
       "prompt_number": 45,
       "text": [
        "(3.4225714945245387, 0.10000000000000001)"
       ]
      }
     ],
     "prompt_number": 45
    },
    {
     "cell_type": "markdown",
     "metadata": {},
     "source": [
      "# Cummulative distance functions"
     ]
    },
    {
     "cell_type": "code",
     "collapsed": false,
     "input": [
      "D"
     ],
     "language": "python",
     "metadata": {},
     "outputs": [
      {
       "metadata": {},
       "output_type": "pyout",
       "prompt_number": 95,
       "text": [
        "array([[  0.        ,   8.28598615,   8.19560843,   5.12304985,\n",
        "          9.91481851],\n",
        "       [  8.28598615,   0.        ,   6.02477202,   4.53222517,\n",
        "          4.41728407],\n",
        "       [  8.19560843,   6.02477202,   0.        ,   3.45615623,\n",
        "         10.36298767],\n",
        "       [  5.12304985,   4.53222517,   3.45615623,   0.        ,\n",
        "          8.14417133],\n",
        "       [  9.91481851,   4.41728407,  10.36298767,   8.14417133,   0.        ]])"
       ]
      }
     ],
     "prompt_number": 95
    },
    {
     "cell_type": "code",
     "collapsed": false,
     "input": [
      "# get upper triangular distances (including diagonal)\n",
      "D1 = D[np.triu_indices_from(D)]"
     ],
     "language": "python",
     "metadata": {},
     "outputs": [],
     "prompt_number": 157
    },
    {
     "cell_type": "code",
     "collapsed": false,
     "input": [
      "# now get rid of the 0 values\n",
      "D1 = D1[D1>0]"
     ],
     "language": "python",
     "metadata": {},
     "outputs": [],
     "prompt_number": 158
    },
    {
     "cell_type": "code",
     "collapsed": false,
     "input": [
      "DMAX = D1.max()\n",
      "DMIN = D1.min()\n"
     ],
     "language": "python",
     "metadata": {},
     "outputs": [],
     "prompt_number": 159
    },
    {
     "cell_type": "code",
     "collapsed": false,
     "input": [
      "d = np.linspace(0,DMAX)"
     ],
     "language": "python",
     "metadata": {},
     "outputs": [],
     "prompt_number": 160
    },
    {
     "cell_type": "code",
     "collapsed": false,
     "input": [
      "d"
     ],
     "language": "python",
     "metadata": {},
     "outputs": [
      {
       "metadata": {},
       "output_type": "pyout",
       "prompt_number": 161,
       "text": [
        "array([ 0.        ,  0.17799537,  0.35599074,  0.53398611,  0.71198148,\n",
        "        0.88997685,  1.06797222,  1.24596759,  1.42396296,  1.60195833,\n",
        "        1.7799537 ,  1.95794907,  2.13594444,  2.31393981,  2.49193518,\n",
        "        2.66993055,  2.84792592,  3.02592129,  3.20391666,  3.38191203,\n",
        "        3.55990741,  3.73790278,  3.91589815,  4.09389352,  4.27188889,\n",
        "        4.44988426,  4.62787963,  4.805875  ,  4.98387037,  5.16186574,\n",
        "        5.33986111,  5.51785648,  5.69585185,  5.87384722,  6.05184259,\n",
        "        6.22983796,  6.40783333,  6.5858287 ,  6.76382407,  6.94181944,\n",
        "        7.11981481,  7.29781018,  7.47580555,  7.65380092,  7.83179629,\n",
        "        8.00979166,  8.18778703,  8.3657824 ,  8.54377777,  8.72177314])"
       ]
      }
     ],
     "prompt_number": 161
    },
    {
     "cell_type": "code",
     "collapsed": false,
     "input": [
      "counts, bins = np.histogram(D1, d)"
     ],
     "language": "python",
     "metadata": {},
     "outputs": [],
     "prompt_number": 162
    },
    {
     "cell_type": "code",
     "collapsed": false,
     "input": [
      "%pylab inline"
     ],
     "language": "python",
     "metadata": {},
     "outputs": [
      {
       "output_type": "stream",
       "stream": "stdout",
       "text": [
        "Populating the interactive namespace from numpy and matplotlib\n"
       ]
      }
     ],
     "prompt_number": 163
    },
    {
     "cell_type": "code",
     "collapsed": false,
     "input": [
      "len(bins)"
     ],
     "language": "python",
     "metadata": {},
     "outputs": [
      {
       "metadata": {},
       "output_type": "pyout",
       "prompt_number": 164,
       "text": [
        "50"
       ]
      }
     ],
     "prompt_number": 164
    },
    {
     "cell_type": "code",
     "collapsed": false,
     "input": [
      "len(counts)"
     ],
     "language": "python",
     "metadata": {},
     "outputs": [
      {
       "metadata": {},
       "output_type": "pyout",
       "prompt_number": 165,
       "text": [
        "49"
       ]
      }
     ],
     "prompt_number": 165
    },
    {
     "cell_type": "code",
     "collapsed": false,
     "input": [
      "bins"
     ],
     "language": "python",
     "metadata": {},
     "outputs": [
      {
       "metadata": {},
       "output_type": "pyout",
       "prompt_number": 166,
       "text": [
        "array([ 0.        ,  0.17799537,  0.35599074,  0.53398611,  0.71198148,\n",
        "        0.88997685,  1.06797222,  1.24596759,  1.42396296,  1.60195833,\n",
        "        1.7799537 ,  1.95794907,  2.13594444,  2.31393981,  2.49193518,\n",
        "        2.66993055,  2.84792592,  3.02592129,  3.20391666,  3.38191203,\n",
        "        3.55990741,  3.73790278,  3.91589815,  4.09389352,  4.27188889,\n",
        "        4.44988426,  4.62787963,  4.805875  ,  4.98387037,  5.16186574,\n",
        "        5.33986111,  5.51785648,  5.69585185,  5.87384722,  6.05184259,\n",
        "        6.22983796,  6.40783333,  6.5858287 ,  6.76382407,  6.94181944,\n",
        "        7.11981481,  7.29781018,  7.47580555,  7.65380092,  7.83179629,\n",
        "        8.00979166,  8.18778703,  8.3657824 ,  8.54377777,  8.72177314])"
       ]
      }
     ],
     "prompt_number": 166
    },
    {
     "cell_type": "code",
     "collapsed": false,
     "input": [
      "counts"
     ],
     "language": "python",
     "metadata": {},
     "outputs": [
      {
       "metadata": {},
       "output_type": "pyout",
       "prompt_number": 167,
       "text": [
        "array([0, 0, 0, 0, 0, 0, 0, 0, 0, 0, 1, 0, 0, 0, 0, 0, 0, 0, 0, 0, 0, 0, 0,\n",
        "       0, 0, 1, 1, 0, 0, 0, 1, 0, 1, 0, 0, 1, 0, 0, 0, 0, 0, 1, 1, 0, 0, 0,\n",
        "       0, 1, 1])"
       ]
      }
     ],
     "prompt_number": 167
    },
    {
     "cell_type": "code",
     "collapsed": false,
     "input": [
      "plot(bins[1:], counts.cumsum())\n",
      "n = max(counts.cumsum())\n",
      "ylim(0,n)\n",
      "title(\"Cumulative pairwise distance function\")"
     ],
     "language": "python",
     "metadata": {},
     "outputs": [
      {
       "metadata": {},
       "output_type": "pyout",
       "prompt_number": 168,
       "text": [
        "<matplotlib.text.Text at 0x108947950>"
       ]
      },
      {
       "metadata": {},
       "output_type": "display_data",
       "png": "[encoded data removed]",
       "text": [
        "<matplotlib.figure.Figure at 0x1088ef750>"
       ]
      }
     ],
     "prompt_number": 168
    },
    {
     "cell_type": "code",
     "collapsed": false,
     "input": [],
     "language": "python",
     "metadata": {},
     "outputs": []
    }
   ],
   "metadata": {}
  }
 ]
}